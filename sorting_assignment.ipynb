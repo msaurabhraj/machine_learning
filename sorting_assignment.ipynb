{
 "cells": [
  {
   "cell_type": "code",
   "execution_count": 1,
   "metadata": {},
   "outputs": [
    {
     "ename": "ModuleNotFoundError",
     "evalue": "No module named 'seaborn'",
     "output_type": "error",
     "traceback": [
      "\u001b[1;31m---------------------------------------------------------------------------\u001b[0m",
      "\u001b[1;31mModuleNotFoundError\u001b[0m                       Traceback (most recent call last)",
      "Cell \u001b[1;32mIn[1], line 4\u001b[0m\n\u001b[0;32m      2\u001b[0m \u001b[39mimport\u001b[39;00m \u001b[39mtime\u001b[39;00m\n\u001b[0;32m      3\u001b[0m \u001b[39mimport\u001b[39;00m \u001b[39msys\u001b[39;00m\u001b[39m,\u001b[39m\u001b[39mos\u001b[39;00m\n\u001b[1;32m----> 4\u001b[0m \u001b[39mimport\u001b[39;00m \u001b[39mseaborn\u001b[39;00m \u001b[39mas\u001b[39;00m \u001b[39mscs\u001b[39;00m\n\u001b[0;32m      5\u001b[0m \u001b[39mimport\u001b[39;00m \u001b[39mmatplotlib\u001b[39;00m\u001b[39m.\u001b[39;00m\u001b[39mpyplot\u001b[39;00m \u001b[39mas\u001b[39;00m \u001b[39mplt\u001b[39;00m\n\u001b[0;32m      6\u001b[0m \u001b[39mimport\u001b[39;00m \u001b[39mpandas\u001b[39;00m \u001b[39mas\u001b[39;00m \u001b[39mpd\u001b[39;00m\n",
      "\u001b[1;31mModuleNotFoundError\u001b[0m: No module named 'seaborn'"
     ]
    }
   ],
   "source": [
    "import random\n",
    "import time\n",
    "import sys,os\n",
    "import seaborn as scs\n",
    "import matplotlib.pyplot as plt\n",
    "import pandas as pd\n",
    "import numpy as np"
   ]
  },
  {
   "cell_type": "code",
   "execution_count": null,
   "metadata": {},
   "outputs": [],
   "source": [
    "LIMIT = 10000"
   ]
  },
  {
   "cell_type": "code",
   "execution_count": null,
   "metadata": {},
   "outputs": [],
   "source": [
    "random_no = [random.randint(1, 100000) for x in range(LIMIT)]"
   ]
  },
  {
   "cell_type": "markdown",
   "metadata": {},
   "source": [
    "## Bubble Sort"
   ]
  },
  {
   "cell_type": "code",
   "execution_count": null,
   "metadata": {},
   "outputs": [],
   "source": [
    "def bubble_sort(arr,n):\n",
    "    for i in range(n):\n",
    "        for j in range(n):\n",
    "            if arr[i] > arr[j]:\n",
    "                arr[i],arr[j] = arr[j], arr[i]\n",
    "                \n",
    "                \n",
    "    return arr"
   ]
  },
  {
   "cell_type": "code",
   "execution_count": null,
   "metadata": {},
   "outputs": [],
   "source": [
    "time_taken = []\n",
    "expected_time = []\n",
    "n_value = []\n",
    "for i in range(100,LIMIT,500):\n",
    "    \n",
    "    start = time.time()\n",
    "    bubble_sort(random_no, i)\n",
    "    stop = time.time()\n",
    "    \n",
    "    time_taken.append(stop-start)\n",
    "    n_value.append(i)\n",
    "    expected_time.append(i*i)\n",
    "\n",
    "df = pd.DataFrame({'n':n_value, 'time_taken':time_taken, 'expected_time' :expected_time})\n",
    "scs.lineplot(data=df, x='n', y='time_taken')\n",
    "plt.show()"
   ]
  },
  {
   "cell_type": "code",
   "execution_count": null,
   "metadata": {},
   "outputs": [],
   "source": [
    "scs.lineplot(data=df, x='n', y='time_taken')\n",
    "scs.lineplot(data=df, x='n', y='expected_time')\n",
    "plt.show()"
   ]
  },
  {
   "cell_type": "markdown",
   "metadata": {},
   "source": [
    "## Selection Sort"
   ]
  },
  {
   "cell_type": "code",
   "execution_count": null,
   "metadata": {},
   "outputs": [],
   "source": [
    "def sel_sort(arr,n):\n",
    "    for i in range(n):\n",
    "        min_id = i\n",
    "        for j in range(i+1, n):\n",
    "            if arr[j] < arr[i]:\n",
    "                min_id = j\n",
    "        if min_id != i:\n",
    "            arr[i],arr[min_id] = arr[min_id], arr[i]"
   ]
  },
  {
   "cell_type": "code",
   "execution_count": null,
   "metadata": {},
   "outputs": [],
   "source": [
    "time_taken = []\n",
    "expected_time = []\n",
    "n_value = []\n",
    "for i in range(100,LIMIT,500):\n",
    "    \n",
    "    start = time.time()\n",
    "    sel_sort(random_no, i)\n",
    "    stop = time.time()\n",
    "    \n",
    "    time_taken.append(stop-start)\n",
    "    n_value.append(i)\n",
    "    expected_time.append(i*i)\n",
    "\n",
    "df = pd.DataFrame({'n':n_value, 'time_taken':time_taken, 'expected_time' :expected_time})\n",
    "scs.lineplot(data=df, x='n', y='time_taken')\n",
    "scs.lineplot(data=df, x='n', y='expected_time')\n",
    "plt.show()"
   ]
  },
  {
   "cell_type": "markdown",
   "metadata": {},
   "source": [
    "## Sequential Search"
   ]
  },
  {
   "cell_type": "code",
   "execution_count": null,
   "metadata": {},
   "outputs": [],
   "source": [
    "def search(arr, ele):\n",
    "    arr.append(ele)\n",
    "    i=0\n",
    "    while arr[i] != ele:\n",
    "        i+=1\n",
    "    if i == len(arr)-1:\n",
    "        return -1\n",
    "    return i"
   ]
  },
  {
   "cell_type": "code",
   "execution_count": null,
   "metadata": {},
   "outputs": [],
   "source": [
    "time_taken = []\n",
    "expected_time = []\n",
    "n_value = []\n",
    "for i in range(100,LIMIT,500):\n",
    "    \n",
    "    start = time.time()\n",
    "    search(random_no, random.randint(10, LIMIT))\n",
    "    stop = time.time()\n",
    "    \n",
    "    time_taken.append(stop-start)\n",
    "    n_value.append(i)\n",
    "    expected_time.append(i)\n",
    "\n",
    "df = pd.DataFrame({'n':n_value, 'time_taken':time_taken, 'expected_time' :expected_time})\n",
    "scs.lineplot(data=df, x='n', y='time_taken')\n",
    "scs.lineplot(data=df, x='n', y='expected_time')\n",
    "plt.show()\n"
   ]
  },
  {
   "cell_type": "code",
   "execution_count": null,
   "metadata": {},
   "outputs": [],
   "source": [
    "def is_substr(text, pattern):\n",
    "    if len(pattern) > len(text):\n",
    "        return -1\n",
    "    for i in range(len(text) - len(pattern) + 1):\n",
    "        match = True\n",
    "        for j in range(len(pattern)):\n",
    "            if pattern[j] != text[i + j]:\n",
    "                match = False\n",
    "                break\n",
    "        if match:\n",
    "            return i\n",
    "    return -1"
   ]
  },
  {
   "cell_type": "markdown",
   "metadata": {},
   "source": [
    "## String Match"
   ]
  },
  {
   "cell_type": "code",
   "execution_count": null,
   "metadata": {},
   "outputs": [],
   "source": [
    "random_text = \"\".join([chr(random.randint(65,90)) for i in range(5000)])\n",
    "time_taken = []\n",
    "expected_time = []\n",
    "n_value = []\n",
    "for i in range(100,LIMIT,500):\n",
    "    random_pattern = \"\".join([ random_text[random.randint(0,len(random_text))] for i in range(20)])\n",
    "    start = time.time()\n",
    "    is_substr(random_text, random_pattern)\n",
    "    stop = time.time()\n",
    "    \n",
    "    time_taken.append(stop-start)\n",
    "    n_value.append(i)\n",
    "    expected_time.append(i)\n",
    "\n",
    "df = pd.DataFrame({'n':n_value, 'time_taken':time_taken, 'expected_time' :expected_time})\n",
    "scs.lineplot(data=df, x='n', y='time_taken')\n",
    "scs.lineplot(data=df, x='n', y='expected_time')\n",
    "plt.show()"
   ]
  },
  {
   "cell_type": "code",
   "execution_count": null,
   "metadata": {},
   "outputs": [],
   "source": []
  },
  {
   "cell_type": "code",
   "execution_count": null,
   "metadata": {},
   "outputs": [],
   "source": []
  },
  {
   "cell_type": "code",
   "execution_count": null,
   "metadata": {},
   "outputs": [],
   "source": []
  },
  {
   "cell_type": "code",
   "execution_count": null,
   "metadata": {},
   "outputs": [],
   "source": []
  },
  {
   "cell_type": "code",
   "execution_count": null,
   "metadata": {},
   "outputs": [],
   "source": []
  }
 ],
 "metadata": {
  "kernelspec": {
   "display_name": "Python 3 (ipykernel)",
   "language": "python",
   "name": "python3"
  },
  "language_info": {
   "codemirror_mode": {
    "name": "ipython",
    "version": 3
   },
   "file_extension": ".py",
   "mimetype": "text/x-python",
   "name": "python",
   "nbconvert_exporter": "python",
   "pygments_lexer": "ipython3",
   "version": "3.10.9"
  }
 },
 "nbformat": 4,
 "nbformat_minor": 2
}
