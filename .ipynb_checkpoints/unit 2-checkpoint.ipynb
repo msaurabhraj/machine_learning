{
 "cells": [
  {
   "cell_type": "code",
   "execution_count": 1,
   "id": "a97060cf",
   "metadata": {},
   "outputs": [],
   "source": [
    "import pandas as pd\n",
    "import numpy as np "
   ]
  },
  {
   "cell_type": "code",
   "execution_count": 2,
   "id": "30b011e8",
   "metadata": {},
   "outputs": [
    {
     "data": {
      "text/html": [
       "<div>\n",
       "<style scoped>\n",
       "    .dataframe tbody tr th:only-of-type {\n",
       "        vertical-align: middle;\n",
       "    }\n",
       "\n",
       "    .dataframe tbody tr th {\n",
       "        vertical-align: top;\n",
       "    }\n",
       "\n",
       "    .dataframe thead th {\n",
       "        text-align: right;\n",
       "    }\n",
       "</style>\n",
       "<table border=\"1\" class=\"dataframe\">\n",
       "  <thead>\n",
       "    <tr style=\"text-align: right;\">\n",
       "      <th></th>\n",
       "      <th>Unnamed: 0</th>\n",
       "      <th>price</th>\n",
       "      <th>lotsize</th>\n",
       "      <th>bedrooms</th>\n",
       "      <th>bathrms</th>\n",
       "      <th>stories</th>\n",
       "      <th>driveway</th>\n",
       "      <th>recroom</th>\n",
       "      <th>fullbase</th>\n",
       "      <th>gashw</th>\n",
       "      <th>airco</th>\n",
       "      <th>garagepl</th>\n",
       "      <th>prefarea</th>\n",
       "    </tr>\n",
       "  </thead>\n",
       "  <tbody>\n",
       "    <tr>\n",
       "      <th>0</th>\n",
       "      <td>1</td>\n",
       "      <td>42000.0</td>\n",
       "      <td>5850</td>\n",
       "      <td>3</td>\n",
       "      <td>1</td>\n",
       "      <td>2</td>\n",
       "      <td>yes</td>\n",
       "      <td>no</td>\n",
       "      <td>yes</td>\n",
       "      <td>no</td>\n",
       "      <td>no</td>\n",
       "      <td>1</td>\n",
       "      <td>no</td>\n",
       "    </tr>\n",
       "    <tr>\n",
       "      <th>1</th>\n",
       "      <td>2</td>\n",
       "      <td>38500.0</td>\n",
       "      <td>4000</td>\n",
       "      <td>2</td>\n",
       "      <td>1</td>\n",
       "      <td>1</td>\n",
       "      <td>yes</td>\n",
       "      <td>no</td>\n",
       "      <td>no</td>\n",
       "      <td>no</td>\n",
       "      <td>no</td>\n",
       "      <td>0</td>\n",
       "      <td>no</td>\n",
       "    </tr>\n",
       "    <tr>\n",
       "      <th>2</th>\n",
       "      <td>3</td>\n",
       "      <td>49500.0</td>\n",
       "      <td>3060</td>\n",
       "      <td>3</td>\n",
       "      <td>1</td>\n",
       "      <td>1</td>\n",
       "      <td>yes</td>\n",
       "      <td>no</td>\n",
       "      <td>no</td>\n",
       "      <td>no</td>\n",
       "      <td>no</td>\n",
       "      <td>0</td>\n",
       "      <td>no</td>\n",
       "    </tr>\n",
       "    <tr>\n",
       "      <th>3</th>\n",
       "      <td>4</td>\n",
       "      <td>60500.0</td>\n",
       "      <td>6650</td>\n",
       "      <td>3</td>\n",
       "      <td>1</td>\n",
       "      <td>2</td>\n",
       "      <td>yes</td>\n",
       "      <td>yes</td>\n",
       "      <td>no</td>\n",
       "      <td>no</td>\n",
       "      <td>no</td>\n",
       "      <td>0</td>\n",
       "      <td>no</td>\n",
       "    </tr>\n",
       "    <tr>\n",
       "      <th>4</th>\n",
       "      <td>5</td>\n",
       "      <td>61000.0</td>\n",
       "      <td>6360</td>\n",
       "      <td>2</td>\n",
       "      <td>1</td>\n",
       "      <td>1</td>\n",
       "      <td>yes</td>\n",
       "      <td>no</td>\n",
       "      <td>no</td>\n",
       "      <td>no</td>\n",
       "      <td>no</td>\n",
       "      <td>0</td>\n",
       "      <td>no</td>\n",
       "    </tr>\n",
       "  </tbody>\n",
       "</table>\n",
       "</div>"
      ],
      "text/plain": [
       "   Unnamed: 0    price  lotsize  bedrooms  bathrms  stories driveway recroom  \\\n",
       "0           1  42000.0     5850         3        1        2      yes      no   \n",
       "1           2  38500.0     4000         2        1        1      yes      no   \n",
       "2           3  49500.0     3060         3        1        1      yes      no   \n",
       "3           4  60500.0     6650         3        1        2      yes     yes   \n",
       "4           5  61000.0     6360         2        1        1      yes      no   \n",
       "\n",
       "  fullbase gashw airco  garagepl prefarea  \n",
       "0      yes    no    no         1       no  \n",
       "1       no    no    no         0       no  \n",
       "2       no    no    no         0       no  \n",
       "3       no    no    no         0       no  \n",
       "4       no    no    no         0       no  "
      ]
     },
     "execution_count": 2,
     "metadata": {},
     "output_type": "execute_result"
    }
   ],
   "source": [
    "df = pd.read_csv('Housing.csv')\n",
    "df.head()"
   ]
  },
  {
   "cell_type": "code",
   "execution_count": 3,
   "id": "58286e90",
   "metadata": {},
   "outputs": [
    {
     "data": {
      "text/plain": [
       "Unnamed: 0    546\n",
       "price         546\n",
       "lotsize       546\n",
       "bedrooms      546\n",
       "bathrms       546\n",
       "stories       546\n",
       "driveway      546\n",
       "recroom       546\n",
       "fullbase      546\n",
       "gashw         546\n",
       "airco         546\n",
       "garagepl      546\n",
       "prefarea      546\n",
       "dtype: int64"
      ]
     },
     "execution_count": 3,
     "metadata": {},
     "output_type": "execute_result"
    }
   ],
   "source": [
    "df.count()"
   ]
  },
  {
   "cell_type": "code",
   "execution_count": 4,
   "id": "1698a380",
   "metadata": {},
   "outputs": [
    {
     "data": {
      "text/plain": [
       "Index(['Unnamed: 0', 'price', 'lotsize', 'bedrooms', 'bathrms', 'stories',\n",
       "       'driveway', 'recroom', 'fullbase', 'gashw', 'airco', 'garagepl',\n",
       "       'prefarea'],\n",
       "      dtype='object')"
      ]
     },
     "execution_count": 4,
     "metadata": {},
     "output_type": "execute_result"
    }
   ],
   "source": [
    "df.columns"
   ]
  },
  {
   "cell_type": "code",
   "execution_count": 5,
   "id": "d991359f",
   "metadata": {},
   "outputs": [
    {
     "data": {
      "text/html": [
       "<div>\n",
       "<style scoped>\n",
       "    .dataframe tbody tr th:only-of-type {\n",
       "        vertical-align: middle;\n",
       "    }\n",
       "\n",
       "    .dataframe tbody tr th {\n",
       "        vertical-align: top;\n",
       "    }\n",
       "\n",
       "    .dataframe thead th {\n",
       "        text-align: right;\n",
       "    }\n",
       "</style>\n",
       "<table border=\"1\" class=\"dataframe\">\n",
       "  <thead>\n",
       "    <tr style=\"text-align: right;\">\n",
       "      <th></th>\n",
       "      <th>Unnamed: 0</th>\n",
       "      <th>price</th>\n",
       "      <th>lotsize</th>\n",
       "      <th>bedrooms</th>\n",
       "      <th>bathrms</th>\n",
       "      <th>stories</th>\n",
       "      <th>driveway</th>\n",
       "      <th>recroom</th>\n",
       "      <th>fullbase</th>\n",
       "      <th>gashw</th>\n",
       "      <th>airco</th>\n",
       "      <th>garagepl</th>\n",
       "      <th>prefarea</th>\n",
       "    </tr>\n",
       "  </thead>\n",
       "  <tbody>\n",
       "    <tr>\n",
       "      <th>0</th>\n",
       "      <td>1</td>\n",
       "      <td>42000.0</td>\n",
       "      <td>5850</td>\n",
       "      <td>3</td>\n",
       "      <td>1</td>\n",
       "      <td>2</td>\n",
       "      <td>1</td>\n",
       "      <td>0</td>\n",
       "      <td>1</td>\n",
       "      <td>0</td>\n",
       "      <td>0</td>\n",
       "      <td>1</td>\n",
       "      <td>0</td>\n",
       "    </tr>\n",
       "    <tr>\n",
       "      <th>1</th>\n",
       "      <td>2</td>\n",
       "      <td>38500.0</td>\n",
       "      <td>4000</td>\n",
       "      <td>2</td>\n",
       "      <td>1</td>\n",
       "      <td>1</td>\n",
       "      <td>1</td>\n",
       "      <td>0</td>\n",
       "      <td>0</td>\n",
       "      <td>0</td>\n",
       "      <td>0</td>\n",
       "      <td>0</td>\n",
       "      <td>0</td>\n",
       "    </tr>\n",
       "    <tr>\n",
       "      <th>2</th>\n",
       "      <td>3</td>\n",
       "      <td>49500.0</td>\n",
       "      <td>3060</td>\n",
       "      <td>3</td>\n",
       "      <td>1</td>\n",
       "      <td>1</td>\n",
       "      <td>1</td>\n",
       "      <td>0</td>\n",
       "      <td>0</td>\n",
       "      <td>0</td>\n",
       "      <td>0</td>\n",
       "      <td>0</td>\n",
       "      <td>0</td>\n",
       "    </tr>\n",
       "    <tr>\n",
       "      <th>3</th>\n",
       "      <td>4</td>\n",
       "      <td>60500.0</td>\n",
       "      <td>6650</td>\n",
       "      <td>3</td>\n",
       "      <td>1</td>\n",
       "      <td>2</td>\n",
       "      <td>1</td>\n",
       "      <td>1</td>\n",
       "      <td>0</td>\n",
       "      <td>0</td>\n",
       "      <td>0</td>\n",
       "      <td>0</td>\n",
       "      <td>0</td>\n",
       "    </tr>\n",
       "    <tr>\n",
       "      <th>4</th>\n",
       "      <td>5</td>\n",
       "      <td>61000.0</td>\n",
       "      <td>6360</td>\n",
       "      <td>2</td>\n",
       "      <td>1</td>\n",
       "      <td>1</td>\n",
       "      <td>1</td>\n",
       "      <td>0</td>\n",
       "      <td>0</td>\n",
       "      <td>0</td>\n",
       "      <td>0</td>\n",
       "      <td>0</td>\n",
       "      <td>0</td>\n",
       "    </tr>\n",
       "  </tbody>\n",
       "</table>\n",
       "</div>"
      ],
      "text/plain": [
       "   Unnamed: 0    price  lotsize  bedrooms  bathrms  stories  driveway  \\\n",
       "0           1  42000.0     5850         3        1        2         1   \n",
       "1           2  38500.0     4000         2        1        1         1   \n",
       "2           3  49500.0     3060         3        1        1         1   \n",
       "3           4  60500.0     6650         3        1        2         1   \n",
       "4           5  61000.0     6360         2        1        1         1   \n",
       "\n",
       "   recroom  fullbase  gashw  airco  garagepl  prefarea  \n",
       "0        0         1      0      0         1         0  \n",
       "1        0         0      0      0         0         0  \n",
       "2        0         0      0      0         0         0  \n",
       "3        1         0      0      0         0         0  \n",
       "4        0         0      0      0         0         0  "
      ]
     },
     "execution_count": 5,
     "metadata": {},
     "output_type": "execute_result"
    }
   ],
   "source": [
    "##Treating catogerical varaible \n",
    "from sklearn.preprocessing  import LabelEncoder\n",
    "l1 =['driveway', 'recroom', 'fullbase', 'gashw', 'airco', 'prefarea']\n",
    "le = LabelEncoder()\n",
    "for i in l1:\n",
    "    df[i]=le.fit_transform(df[i])\n",
    "df.head()\n"
   ]
  },
  {
   "cell_type": "code",
   "execution_count": 6,
   "id": "7ac18677",
   "metadata": {},
   "outputs": [
    {
     "data": {
      "text/html": [
       "<div>\n",
       "<style scoped>\n",
       "    .dataframe tbody tr th:only-of-type {\n",
       "        vertical-align: middle;\n",
       "    }\n",
       "\n",
       "    .dataframe tbody tr th {\n",
       "        vertical-align: top;\n",
       "    }\n",
       "\n",
       "    .dataframe thead th {\n",
       "        text-align: right;\n",
       "    }\n",
       "</style>\n",
       "<table border=\"1\" class=\"dataframe\">\n",
       "  <thead>\n",
       "    <tr style=\"text-align: right;\">\n",
       "      <th></th>\n",
       "      <th>Unnamed: 0</th>\n",
       "      <th>price</th>\n",
       "      <th>lotsize</th>\n",
       "      <th>bedrooms</th>\n",
       "      <th>bathrms</th>\n",
       "      <th>stories</th>\n",
       "      <th>driveway</th>\n",
       "      <th>recroom</th>\n",
       "      <th>fullbase</th>\n",
       "      <th>gashw</th>\n",
       "      <th>airco</th>\n",
       "      <th>garagepl</th>\n",
       "      <th>prefarea</th>\n",
       "    </tr>\n",
       "  </thead>\n",
       "  <tbody>\n",
       "    <tr>\n",
       "      <th>0</th>\n",
       "      <td>1</td>\n",
       "      <td>42000.0</td>\n",
       "      <td>0.288660</td>\n",
       "      <td>3</td>\n",
       "      <td>1</td>\n",
       "      <td>2</td>\n",
       "      <td>1</td>\n",
       "      <td>0</td>\n",
       "      <td>1</td>\n",
       "      <td>0</td>\n",
       "      <td>0</td>\n",
       "      <td>1</td>\n",
       "      <td>0</td>\n",
       "    </tr>\n",
       "    <tr>\n",
       "      <th>1</th>\n",
       "      <td>2</td>\n",
       "      <td>38500.0</td>\n",
       "      <td>0.161512</td>\n",
       "      <td>2</td>\n",
       "      <td>1</td>\n",
       "      <td>1</td>\n",
       "      <td>1</td>\n",
       "      <td>0</td>\n",
       "      <td>0</td>\n",
       "      <td>0</td>\n",
       "      <td>0</td>\n",
       "      <td>0</td>\n",
       "      <td>0</td>\n",
       "    </tr>\n",
       "    <tr>\n",
       "      <th>2</th>\n",
       "      <td>3</td>\n",
       "      <td>49500.0</td>\n",
       "      <td>0.096907</td>\n",
       "      <td>3</td>\n",
       "      <td>1</td>\n",
       "      <td>1</td>\n",
       "      <td>1</td>\n",
       "      <td>0</td>\n",
       "      <td>0</td>\n",
       "      <td>0</td>\n",
       "      <td>0</td>\n",
       "      <td>0</td>\n",
       "      <td>0</td>\n",
       "    </tr>\n",
       "    <tr>\n",
       "      <th>3</th>\n",
       "      <td>4</td>\n",
       "      <td>60500.0</td>\n",
       "      <td>0.343643</td>\n",
       "      <td>3</td>\n",
       "      <td>1</td>\n",
       "      <td>2</td>\n",
       "      <td>1</td>\n",
       "      <td>1</td>\n",
       "      <td>0</td>\n",
       "      <td>0</td>\n",
       "      <td>0</td>\n",
       "      <td>0</td>\n",
       "      <td>0</td>\n",
       "    </tr>\n",
       "    <tr>\n",
       "      <th>4</th>\n",
       "      <td>5</td>\n",
       "      <td>61000.0</td>\n",
       "      <td>0.323711</td>\n",
       "      <td>2</td>\n",
       "      <td>1</td>\n",
       "      <td>1</td>\n",
       "      <td>1</td>\n",
       "      <td>0</td>\n",
       "      <td>0</td>\n",
       "      <td>0</td>\n",
       "      <td>0</td>\n",
       "      <td>0</td>\n",
       "      <td>0</td>\n",
       "    </tr>\n",
       "  </tbody>\n",
       "</table>\n",
       "</div>"
      ],
      "text/plain": [
       "   Unnamed: 0    price   lotsize  bedrooms  bathrms  stories  driveway  \\\n",
       "0           1  42000.0  0.288660         3        1        2         1   \n",
       "1           2  38500.0  0.161512         2        1        1         1   \n",
       "2           3  49500.0  0.096907         3        1        1         1   \n",
       "3           4  60500.0  0.343643         3        1        2         1   \n",
       "4           5  61000.0  0.323711         2        1        1         1   \n",
       "\n",
       "   recroom  fullbase  gashw  airco  garagepl  prefarea  \n",
       "0        0         1      0      0         1         0  \n",
       "1        0         0      0      0         0         0  \n",
       "2        0         0      0      0         0         0  \n",
       "3        1         0      0      0         0         0  \n",
       "4        0         0      0      0         0         0  "
      ]
     },
     "execution_count": 6,
     "metadata": {},
     "output_type": "execute_result"
    }
   ],
   "source": [
    "from sklearn.preprocessing  import MinMaxScaler #bring lotsize to minimum value \n",
    "mn = MinMaxScaler()\n",
    "df['lotsize']= mn.fit_transform(df[['lotsize']])\n",
    "df.head()"
   ]
  },
  {
   "cell_type": "code",
   "execution_count": 7,
   "id": "0d17b27e",
   "metadata": {},
   "outputs": [
    {
     "data": {
      "text/plain": [
       "array([[0.28865979],\n",
       "       [0.16151203],\n",
       "       [0.09690722],\n",
       "       [0.34364261],\n",
       "       [0.32371134],\n",
       "       [0.17250859],\n",
       "       [0.1532646 ],\n",
       "       [0.17250859],\n",
       "       [0.21649485],\n",
       "       [0.26460481],\n",
       "       [0.3814433 ],\n",
       "       [0.09278351],\n",
       "       [0.00343643],\n",
       "       [0.08453608],\n",
       "       [0.13402062],\n",
       "       [0.10549828],\n",
       "       [0.11340206],\n",
       "       [0.24398625],\n",
       "       [0.12371134],\n",
       "       [0.16054983],\n",
       "       [0.21546392],\n",
       "       [0.19656357],\n",
       "       [0.16151203],\n",
       "       [0.15697595],\n",
       "       [0.22749141],\n",
       "       [0.09278351],\n",
       "       [0.14776632],\n",
       "       [0.22749141],\n",
       "       [0.09278351],\n",
       "       [0.19587629],\n",
       "       [0.12714777],\n",
       "       [0.12714777],\n",
       "       [0.16151203],\n",
       "       [0.19587629],\n",
       "       [0.32371134],\n",
       "       [0.19587629],\n",
       "       [0.16371134],\n",
       "       [0.2419244 ],\n",
       "       [0.25773196],\n",
       "       [0.10309278],\n",
       "       [0.14398625],\n",
       "       [0.19725086],\n",
       "       [0.20549828],\n",
       "       [0.47628866],\n",
       "       [0.02405498],\n",
       "       [0.03505155],\n",
       "       [0.09553265],\n",
       "       [0.09896907],\n",
       "       [0.22749141],\n",
       "       [0.11683849],\n",
       "       [0.25085911],\n",
       "       [0.16838488],\n",
       "       [0.51656357],\n",
       "       [0.16426117],\n",
       "       [0.13608247],\n",
       "       [0.13539519],\n",
       "       [0.05154639],\n",
       "       [0.38556701],\n",
       "       [0.18900344],\n",
       "       [0.05154639],\n",
       "       [0.16975945],\n",
       "       [0.21305842],\n",
       "       [0.18075601],\n",
       "       [0.21786942],\n",
       "       [0.26460481],\n",
       "       [0.26460481],\n",
       "       [0.23298969],\n",
       "       [0.29896907],\n",
       "       [0.05841924],\n",
       "       [0.16804124],\n",
       "       [0.16804124],\n",
       "       [0.10309278],\n",
       "       [0.01278351],\n",
       "       [0.05670103],\n",
       "       [0.10721649],\n",
       "       [0.10515464],\n",
       "       [0.        ],\n",
       "       [0.10515464],\n",
       "       [0.10515464],\n",
       "       [0.32371134],\n",
       "       [0.17800687],\n",
       "       [0.10927835],\n",
       "       [0.13745704],\n",
       "       [0.10927835],\n",
       "       [0.14639175],\n",
       "       [0.33195876],\n",
       "       [0.28865979],\n",
       "       [0.10309278],\n",
       "       [0.09278351],\n",
       "       [0.09896907],\n",
       "       [0.30309278],\n",
       "       [0.29209622],\n",
       "       [0.39656357],\n",
       "       [0.47079038],\n",
       "       [0.43986254],\n",
       "       [0.35395189],\n",
       "       [0.45360825],\n",
       "       [0.45360825],\n",
       "       [0.12714777],\n",
       "       [0.0814433 ],\n",
       "       [0.19587629],\n",
       "       [0.11340206],\n",
       "       [0.18350515],\n",
       "       [0.12714777],\n",
       "       [0.22969072],\n",
       "       [0.20274914],\n",
       "       [0.14226804],\n",
       "       [0.1395189 ],\n",
       "       [0.09278351],\n",
       "       [0.1443299 ],\n",
       "       [0.23546392],\n",
       "       [0.19587629],\n",
       "       [0.23024055],\n",
       "       [0.17938144],\n",
       "       [0.33608247],\n",
       "       [0.14089347],\n",
       "       [0.14501718],\n",
       "       [0.16151203],\n",
       "       [0.18213058],\n",
       "       [0.35670103],\n",
       "       [0.18900344],\n",
       "       [0.60824742],\n",
       "       [0.18900344],\n",
       "       [0.21924399],\n",
       "       [0.16975945],\n",
       "       [0.17938144],\n",
       "       [0.29621993],\n",
       "       [0.49140893],\n",
       "       [0.2       ],\n",
       "       [0.20274914],\n",
       "       [0.21924399],\n",
       "       [0.15120275],\n",
       "       [0.2233677 ],\n",
       "       [0.15120275],\n",
       "       [0.14501718],\n",
       "       [0.29896907],\n",
       "       [0.18694158],\n",
       "       [0.41580756],\n",
       "       [0.09209622],\n",
       "       [0.1443299 ],\n",
       "       [0.09278351],\n",
       "       [0.06872852],\n",
       "       [0.19587629],\n",
       "       [0.19587629],\n",
       "       [0.19587629],\n",
       "       [0.19587629],\n",
       "       [0.03608247],\n",
       "       [0.19587629],\n",
       "       [0.21649485],\n",
       "       [0.20274914],\n",
       "       [0.12371134],\n",
       "       [0.09278351],\n",
       "       [0.13402062],\n",
       "       [0.13402062],\n",
       "       [0.1443299 ],\n",
       "       [0.06597938],\n",
       "       [0.08955326],\n",
       "       [0.07539519],\n",
       "       [0.01752577],\n",
       "       [0.15931271],\n",
       "       [0.10391753],\n",
       "       [0.29896907],\n",
       "       [0.08659794],\n",
       "       [0.03333333],\n",
       "       [0.10103093],\n",
       "       [0.16666667],\n",
       "       [0.1209622 ],\n",
       "       [0.0790378 ],\n",
       "       [0.07106529],\n",
       "       [0.09965636],\n",
       "       [0.13608247],\n",
       "       [0.02061856],\n",
       "       [0.05360825],\n",
       "       [0.18350515],\n",
       "       [0.09525773],\n",
       "       [0.13608247],\n",
       "       [0.25773196],\n",
       "       [0.12164948],\n",
       "       [0.10515464],\n",
       "       [0.13814433],\n",
       "       [0.18969072],\n",
       "       [0.16082474],\n",
       "       [0.18487973],\n",
       "       [0.12783505],\n",
       "       [0.12164948],\n",
       "       [0.12164948],\n",
       "       [0.26426117],\n",
       "       [0.1257732 ],\n",
       "       [0.39683849],\n",
       "       [0.12439863],\n",
       "       [0.13608247],\n",
       "       [0.13608247],\n",
       "       [0.1257732 ],\n",
       "       [0.12439863],\n",
       "       [0.10515464],\n",
       "       [0.13642612],\n",
       "       [0.15876289],\n",
       "       [0.18556701],\n",
       "       [0.15670103],\n",
       "       [0.13195876],\n",
       "       [0.13402062],\n",
       "       [0.05979381],\n",
       "       [0.1257732 ],\n",
       "       [0.10515464],\n",
       "       [0.11271478],\n",
       "       [0.16151203],\n",
       "       [0.04639175],\n",
       "       [0.18556701],\n",
       "       [0.12989691],\n",
       "       [0.15876289],\n",
       "       [0.06804124],\n",
       "       [0.07216495],\n",
       "       [0.07216495],\n",
       "       [0.10515464],\n",
       "       [0.12714777],\n",
       "       [0.13608247],\n",
       "       [0.29896907],\n",
       "       [0.10309278],\n",
       "       [0.14721649],\n",
       "       [0.12783505],\n",
       "       [0.10103093],\n",
       "       [0.09278351],\n",
       "       [0.17525773],\n",
       "       [0.08020619],\n",
       "       [0.10927835],\n",
       "       [0.0790378 ],\n",
       "       [0.14886598],\n",
       "       [0.10549828],\n",
       "       [0.32103093],\n",
       "       [0.13745704],\n",
       "       [0.20962199],\n",
       "       [0.34123711],\n",
       "       [0.15120275],\n",
       "       [0.15945017],\n",
       "       [0.09278351],\n",
       "       [0.18570447],\n",
       "       [0.13608247],\n",
       "       [0.13402062],\n",
       "       [0.09278351],\n",
       "       [0.09278351],\n",
       "       [0.07814433],\n",
       "       [0.09278351],\n",
       "       [0.21443299],\n",
       "       [0.13738832],\n",
       "       [0.15945017],\n",
       "       [0.08659794],\n",
       "       [0.1257732 ],\n",
       "       [0.34123711],\n",
       "       [0.12714777],\n",
       "       [0.12371134],\n",
       "       [0.12371134],\n",
       "       [0.12852234],\n",
       "       [0.3628866 ],\n",
       "       [0.20274914],\n",
       "       [0.1862543 ],\n",
       "       [0.12371134],\n",
       "       [0.18969072],\n",
       "       [0.20274914],\n",
       "       [0.13676976],\n",
       "       [0.29896907],\n",
       "       [0.25773196],\n",
       "       [0.13676976],\n",
       "       [0.13676976],\n",
       "       [0.16426117],\n",
       "       [0.13676976],\n",
       "       [0.13676976],\n",
       "       [0.2742268 ],\n",
       "       [0.13402062],\n",
       "       [0.13402062],\n",
       "       [0.20494845],\n",
       "       [0.13676976],\n",
       "       [0.2233677 ],\n",
       "       [0.19656357],\n",
       "       [0.16838488],\n",
       "       [0.13676976],\n",
       "       [0.27697595],\n",
       "       [0.31958763],\n",
       "       [0.16151203],\n",
       "       [0.15876289],\n",
       "       [0.29621993],\n",
       "       [0.28728522],\n",
       "       [0.19587629],\n",
       "       [0.16838488],\n",
       "       [0.35051546],\n",
       "       [0.50515464],\n",
       "       [0.06185567],\n",
       "       [0.37814433],\n",
       "       [0.32989691],\n",
       "       [0.11752577],\n",
       "       [0.11092784],\n",
       "       [0.16151203],\n",
       "       [0.16151203],\n",
       "       [0.09752577],\n",
       "       [0.16426117],\n",
       "       [0.16426117],\n",
       "       [0.10549828],\n",
       "       [0.29209622],\n",
       "       [0.10103093],\n",
       "       [0.26116838],\n",
       "       [0.16426117],\n",
       "       [0.16701031],\n",
       "       [0.4419244 ],\n",
       "       [0.16426117],\n",
       "       [0.16701031],\n",
       "       [0.28522337],\n",
       "       [0.29106529],\n",
       "       [0.55099656],\n",
       "       [0.12164948],\n",
       "       [0.28522337],\n",
       "       [0.40893471],\n",
       "       [0.25773196],\n",
       "       [0.22989691],\n",
       "       [0.09278351],\n",
       "       [0.26460481],\n",
       "       [0.32989691],\n",
       "       [0.31340206],\n",
       "       [0.23024055],\n",
       "       [0.23024055],\n",
       "       [0.28714777],\n",
       "       [0.24398625],\n",
       "       [0.26460481],\n",
       "       [0.32302405],\n",
       "       [0.45360825],\n",
       "       [0.29896907],\n",
       "       [0.41580756],\n",
       "       [0.49690722],\n",
       "       [0.49690722],\n",
       "       [0.33195876],\n",
       "       [0.36769759],\n",
       "       [0.49656357],\n",
       "       [0.37835052],\n",
       "       [0.5024055 ],\n",
       "       [0.39175258],\n",
       "       [0.15120275],\n",
       "       [0.36769759],\n",
       "       [0.42061856],\n",
       "       [0.39793814],\n",
       "       [0.40206186],\n",
       "       [0.44329897],\n",
       "       [0.15463918],\n",
       "       [0.09072165],\n",
       "       [0.09278351],\n",
       "       [0.60824742],\n",
       "       [0.26460481],\n",
       "       [0.19587629],\n",
       "       [0.15120275],\n",
       "       [0.17044674],\n",
       "       [0.16467354],\n",
       "       [0.16694158],\n",
       "       [0.16151203],\n",
       "       [0.56426117],\n",
       "       [0.36769759],\n",
       "       [0.43505155],\n",
       "       [0.35395189],\n",
       "       [0.18213058],\n",
       "       [0.59237113],\n",
       "       [0.30584192],\n",
       "       [0.32783505],\n",
       "       [0.71752577],\n",
       "       [0.34020619],\n",
       "       [0.34020619],\n",
       "       [0.47628866],\n",
       "       [0.57113402],\n",
       "       [0.62199313],\n",
       "       [0.95876289],\n",
       "       [0.79381443],\n",
       "       [0.50515464],\n",
       "       [0.43298969],\n",
       "       [1.        ],\n",
       "       [0.30584192],\n",
       "       [0.32371134],\n",
       "       [0.32783505],\n",
       "       [0.32371134],\n",
       "       [0.33608247],\n",
       "       [0.32783505],\n",
       "       [0.33676976],\n",
       "       [0.28178694],\n",
       "       [0.39656357],\n",
       "       [0.37869416],\n",
       "       [0.16151203],\n",
       "       [0.50515464],\n",
       "       [0.33676976],\n",
       "       [0.79381443],\n",
       "       [0.37353952],\n",
       "       [0.34020619],\n",
       "       [0.36082474],\n",
       "       [0.6742268 ],\n",
       "       [0.36907216],\n",
       "       [0.33608247],\n",
       "       [0.43642612],\n",
       "       [0.54776632],\n",
       "       [0.60824742],\n",
       "       [0.23161512],\n",
       "       [0.39793814],\n",
       "       [0.34020619],\n",
       "       [0.3814433 ],\n",
       "       [0.34776632],\n",
       "       [0.3443299 ],\n",
       "       [0.36769759],\n",
       "       [0.38357388],\n",
       "       [0.39587629],\n",
       "       [0.42268041],\n",
       "       [0.3556701 ],\n",
       "       [0.32371134],\n",
       "       [0.34020619],\n",
       "       [0.36082474],\n",
       "       [0.34020619],\n",
       "       [0.32783505],\n",
       "       [0.34020619],\n",
       "       [0.34020619],\n",
       "       [0.50515464],\n",
       "       [0.33333333],\n",
       "       [0.32371134],\n",
       "       [0.25085911],\n",
       "       [0.08247423],\n",
       "       [0.32646048],\n",
       "       [0.65463918],\n",
       "       [0.35051546],\n",
       "       [0.40206186],\n",
       "       [0.29896907],\n",
       "       [0.59037801],\n",
       "       [0.23958763],\n",
       "       [0.12027491],\n",
       "       [0.08453608],\n",
       "       [0.15051546],\n",
       "       [0.0838488 ],\n",
       "       [0.25223368],\n",
       "       [0.12797251],\n",
       "       [0.1257732 ],\n",
       "       [0.13402062],\n",
       "       [0.12852234],\n",
       "       [0.25223368],\n",
       "       [0.30171821],\n",
       "       [0.67079038],\n",
       "       [0.46391753],\n",
       "       [0.25085911],\n",
       "       [0.42268041],\n",
       "       [0.12852234],\n",
       "       [0.25498282],\n",
       "       [0.35821306],\n",
       "       [0.12852234],\n",
       "       [0.16494845],\n",
       "       [0.12852234],\n",
       "       [0.18900344],\n",
       "       [0.27972509],\n",
       "       [0.67285223],\n",
       "       [0.40082474],\n",
       "       [0.26460481],\n",
       "       [0.18350515],\n",
       "       [0.25773196],\n",
       "       [0.18350515],\n",
       "       [0.21752577],\n",
       "       [0.30584192],\n",
       "       [0.43505155],\n",
       "       [0.3024055 ],\n",
       "       [0.14776632],\n",
       "       [0.25773196],\n",
       "       [0.29896907],\n",
       "       [0.05140893],\n",
       "       [0.03402062],\n",
       "       [0.03402062],\n",
       "       [0.03402062],\n",
       "       [0.06597938],\n",
       "       [0.02061856],\n",
       "       [0.03402062],\n",
       "       [0.04295533],\n",
       "       [0.0828866 ],\n",
       "       [0.02508591],\n",
       "       [0.0361512 ],\n",
       "       [0.03402062],\n",
       "       [0.03402062],\n",
       "       [0.07814433],\n",
       "       [0.5395189 ],\n",
       "       [0.22955326],\n",
       "       [0.34501718],\n",
       "       [0.31642612],\n",
       "       [0.59862543],\n",
       "       [0.26460481],\n",
       "       [0.26116838],\n",
       "       [0.26460481],\n",
       "       [0.29896907],\n",
       "       [0.27835052],\n",
       "       [0.34020619],\n",
       "       [0.16151203],\n",
       "       [0.22199313],\n",
       "       [0.22199313],\n",
       "       [0.43986254],\n",
       "       [0.44329897],\n",
       "       [0.29072165],\n",
       "       [0.29072165],\n",
       "       [0.77621993],\n",
       "       [0.30034364],\n",
       "       [0.16494845],\n",
       "       [0.46391753],\n",
       "       [0.27147766],\n",
       "       [0.29793814],\n",
       "       [0.19587629],\n",
       "       [0.22474227],\n",
       "       [0.45360825],\n",
       "       [0.46391753],\n",
       "       [0.32920962],\n",
       "       [0.44329897],\n",
       "       [0.34845361],\n",
       "       [0.29539519],\n",
       "       [0.4467354 ],\n",
       "       [0.21649485],\n",
       "       [0.56013746],\n",
       "       [0.47216495],\n",
       "       [0.46199313],\n",
       "       [0.16426117],\n",
       "       [0.20591065],\n",
       "       [0.21477663],\n",
       "       [0.22680412],\n",
       "       [0.23092784],\n",
       "       [0.30309278],\n",
       "       [0.13292096],\n",
       "       [0.29896907],\n",
       "       [0.29896907],\n",
       "       [0.31546392],\n",
       "       [0.29896907],\n",
       "       [0.41443299],\n",
       "       [0.29896907],\n",
       "       [0.29896907],\n",
       "       [0.29896907],\n",
       "       [0.29896907],\n",
       "       [0.40034364],\n",
       "       [0.24054983],\n",
       "       [0.32130584],\n",
       "       [0.29896907],\n",
       "       [0.29896907],\n",
       "       [0.29896907],\n",
       "       [0.36769759],\n",
       "       [0.77319588],\n",
       "       [0.41484536],\n",
       "       [0.23024055],\n",
       "       [0.28522337],\n",
       "       [0.29896907],\n",
       "       [0.21649485],\n",
       "       [0.33333333],\n",
       "       [0.38969072],\n",
       "       [0.33505155],\n",
       "       [0.21649485],\n",
       "       [0.29896907],\n",
       "       [0.29896907],\n",
       "       [0.29896907],\n",
       "       [0.29896907]])"
      ]
     },
     "execution_count": 7,
     "metadata": {},
     "output_type": "execute_result"
    }
   ],
   "source": [
    "from sklearn.feature_selection import SelectKBest,f_regression\n",
    "x = df.iloc[:,2:]\n",
    "y = df.price\n",
    "sk = SelectKBest(f_regression,k=1) #out of 5 variable select one best value\n",
    "sk.fit_transform(x,y)"
   ]
  },
  {
   "cell_type": "code",
   "execution_count": 8,
   "id": "8a23d8c2",
   "metadata": {},
   "outputs": [],
   "source": [
    "x= df[['lotsize']]\n",
    "y= df['price']\n",
    "from sklearn.model_selection  import train_test_split\n",
    "xtrain,xtest,ytrain,ytest=train_test_split(x,y,test_size=0.2,shuffle=True,random_state=1)\n"
   ]
  },
  {
   "cell_type": "markdown",
   "id": "2a568df0",
   "metadata": {},
   "source": [
    "# Machine learning (learning on xtrain and ytrain)"
   ]
  },
  {
   "cell_type": "code",
   "execution_count": 9,
   "id": "19049780",
   "metadata": {},
   "outputs": [
    {
     "data": {
      "text/html": [
       "<style>#sk-container-id-1 {color: black;background-color: white;}#sk-container-id-1 pre{padding: 0;}#sk-container-id-1 div.sk-toggleable {background-color: white;}#sk-container-id-1 label.sk-toggleable__label {cursor: pointer;display: block;width: 100%;margin-bottom: 0;padding: 0.3em;box-sizing: border-box;text-align: center;}#sk-container-id-1 label.sk-toggleable__label-arrow:before {content: \"▸\";float: left;margin-right: 0.25em;color: #696969;}#sk-container-id-1 label.sk-toggleable__label-arrow:hover:before {color: black;}#sk-container-id-1 div.sk-estimator:hover label.sk-toggleable__label-arrow:before {color: black;}#sk-container-id-1 div.sk-toggleable__content {max-height: 0;max-width: 0;overflow: hidden;text-align: left;background-color: #f0f8ff;}#sk-container-id-1 div.sk-toggleable__content pre {margin: 0.2em;color: black;border-radius: 0.25em;background-color: #f0f8ff;}#sk-container-id-1 input.sk-toggleable__control:checked~div.sk-toggleable__content {max-height: 200px;max-width: 100%;overflow: auto;}#sk-container-id-1 input.sk-toggleable__control:checked~label.sk-toggleable__label-arrow:before {content: \"▾\";}#sk-container-id-1 div.sk-estimator input.sk-toggleable__control:checked~label.sk-toggleable__label {background-color: #d4ebff;}#sk-container-id-1 div.sk-label input.sk-toggleable__control:checked~label.sk-toggleable__label {background-color: #d4ebff;}#sk-container-id-1 input.sk-hidden--visually {border: 0;clip: rect(1px 1px 1px 1px);clip: rect(1px, 1px, 1px, 1px);height: 1px;margin: -1px;overflow: hidden;padding: 0;position: absolute;width: 1px;}#sk-container-id-1 div.sk-estimator {font-family: monospace;background-color: #f0f8ff;border: 1px dotted black;border-radius: 0.25em;box-sizing: border-box;margin-bottom: 0.5em;}#sk-container-id-1 div.sk-estimator:hover {background-color: #d4ebff;}#sk-container-id-1 div.sk-parallel-item::after {content: \"\";width: 100%;border-bottom: 1px solid gray;flex-grow: 1;}#sk-container-id-1 div.sk-label:hover label.sk-toggleable__label {background-color: #d4ebff;}#sk-container-id-1 div.sk-serial::before {content: \"\";position: absolute;border-left: 1px solid gray;box-sizing: border-box;top: 0;bottom: 0;left: 50%;z-index: 0;}#sk-container-id-1 div.sk-serial {display: flex;flex-direction: column;align-items: center;background-color: white;padding-right: 0.2em;padding-left: 0.2em;position: relative;}#sk-container-id-1 div.sk-item {position: relative;z-index: 1;}#sk-container-id-1 div.sk-parallel {display: flex;align-items: stretch;justify-content: center;background-color: white;position: relative;}#sk-container-id-1 div.sk-item::before, #sk-container-id-1 div.sk-parallel-item::before {content: \"\";position: absolute;border-left: 1px solid gray;box-sizing: border-box;top: 0;bottom: 0;left: 50%;z-index: -1;}#sk-container-id-1 div.sk-parallel-item {display: flex;flex-direction: column;z-index: 1;position: relative;background-color: white;}#sk-container-id-1 div.sk-parallel-item:first-child::after {align-self: flex-end;width: 50%;}#sk-container-id-1 div.sk-parallel-item:last-child::after {align-self: flex-start;width: 50%;}#sk-container-id-1 div.sk-parallel-item:only-child::after {width: 0;}#sk-container-id-1 div.sk-dashed-wrapped {border: 1px dashed gray;margin: 0 0.4em 0.5em 0.4em;box-sizing: border-box;padding-bottom: 0.4em;background-color: white;}#sk-container-id-1 div.sk-label label {font-family: monospace;font-weight: bold;display: inline-block;line-height: 1.2em;}#sk-container-id-1 div.sk-label-container {text-align: center;}#sk-container-id-1 div.sk-container {/* jupyter's `normalize.less` sets `[hidden] { display: none; }` but bootstrap.min.css set `[hidden] { display: none !important; }` so we also need the `!important` here to be able to override the default hidden behavior on the sphinx rendered scikit-learn.org. See: https://github.com/scikit-learn/scikit-learn/issues/21755 */display: inline-block !important;position: relative;}#sk-container-id-1 div.sk-text-repr-fallback {display: none;}</style><div id=\"sk-container-id-1\" class=\"sk-top-container\"><div class=\"sk-text-repr-fallback\"><pre>LinearRegression()</pre><b>In a Jupyter environment, please rerun this cell to show the HTML representation or trust the notebook. <br />On GitHub, the HTML representation is unable to render, please try loading this page with nbviewer.org.</b></div><div class=\"sk-container\" hidden><div class=\"sk-item\"><div class=\"sk-estimator sk-toggleable\"><input class=\"sk-toggleable__control sk-hidden--visually\" id=\"sk-estimator-id-1\" type=\"checkbox\" checked><label for=\"sk-estimator-id-1\" class=\"sk-toggleable__label sk-toggleable__label-arrow\">LinearRegression</label><div class=\"sk-toggleable__content\"><pre>LinearRegression()</pre></div></div></div></div></div>"
      ],
      "text/plain": [
       "LinearRegression()"
      ]
     },
     "execution_count": 9,
     "metadata": {},
     "output_type": "execute_result"
    }
   ],
   "source": [
    "from sklearn.linear_model import LinearRegression\n",
    "slr= LinearRegression()\n",
    "slr.fit(xtrain,ytrain)"
   ]
  },
  {
   "cell_type": "code",
   "execution_count": 10,
   "id": "d8bc2906",
   "metadata": {},
   "outputs": [
    {
     "data": {
      "text/plain": [
       "array([95853.04274896])"
      ]
     },
     "execution_count": 10,
     "metadata": {},
     "output_type": "execute_result"
    }
   ],
   "source": [
    "slr.coef_  # the coefficient which is the m value "
   ]
  },
  {
   "cell_type": "markdown",
   "id": "f5fa1050",
   "metadata": {},
   "source": [
    "# Evaluating Model "
   ]
  },
  {
   "cell_type": "code",
   "execution_count": 11,
   "id": "864118a5",
   "metadata": {},
   "outputs": [
    {
     "data": {
      "text/plain": [
       "0.2838357590291908"
      ]
     },
     "execution_count": 11,
     "metadata": {},
     "output_type": "execute_result"
    }
   ],
   "source": [
    "ypred= slr.predict(xtest)\n",
    "from sklearn.metrics import r2_score\n",
    "r2_score(ytest,ypred) #28% is the accuracy "
   ]
  },
  {
   "cell_type": "markdown",
   "id": "9ffe0466",
   "metadata": {},
   "source": [
    "# Prediction "
   ]
  },
  {
   "cell_type": "code",
   "execution_count": 12,
   "id": "e912759c",
   "metadata": {},
   "outputs": [
    {
     "name": "stderr",
     "output_type": "stream",
     "text": [
      "C:\\Users\\rajsa\\anaconda3\\lib\\site-packages\\sklearn\\base.py:420: UserWarning: X does not have valid feature names, but LinearRegression was fitted with feature names\n",
      "  warnings.warn(\n"
     ]
    },
    {
     "data": {
      "text/plain": [
       "array([44583.44062707])"
      ]
     },
     "execution_count": 12,
     "metadata": {},
     "output_type": "execute_result"
    }
   ],
   "source": [
    "x_new = [[1500]]\n",
    "x_scaled =mn.fit_transform(x_new)\n",
    "slr.predict(x_scaled)"
   ]
  },
  {
   "cell_type": "markdown",
   "id": "823a1c07",
   "metadata": {},
   "source": [
    "# mutiple linear regression "
   ]
  },
  {
   "cell_type": "code",
   "execution_count": 13,
   "id": "1c6156df",
   "metadata": {},
   "outputs": [
    {
     "data": {
      "text/plain": [
       "array([[0.28865979, 1.        ],\n",
       "       [0.16151203, 1.        ],\n",
       "       [0.09690722, 1.        ],\n",
       "       ...,\n",
       "       [0.29896907, 2.        ],\n",
       "       [0.29896907, 2.        ],\n",
       "       [0.29896907, 1.        ]])"
      ]
     },
     "execution_count": 13,
     "metadata": {},
     "output_type": "execute_result"
    }
   ],
   "source": [
    "from sklearn.feature_selection import SelectKBest,f_regression\n",
    "x = df.iloc[:,2:]\n",
    "y = df.price\n",
    "sk = SelectKBest(f_regression,k=2) #out of 5 variable select two best value\n",
    "sk.fit_transform(x,y)"
   ]
  },
  {
   "cell_type": "code",
   "execution_count": 14,
   "id": "6669f322",
   "metadata": {},
   "outputs": [
    {
     "data": {
      "text/plain": [
       "array([0, 2], dtype=int64)"
      ]
     },
     "execution_count": 14,
     "metadata": {},
     "output_type": "execute_result"
    }
   ],
   "source": [
    "sk.get_support(indices=True) #to koow the selected feature "
   ]
  },
  {
   "cell_type": "code",
   "execution_count": 15,
   "id": "db470204",
   "metadata": {},
   "outputs": [],
   "source": [
    "x = df[['lotsize','bathrms']]\n",
    "y = df['price']\n",
    "from sklearn.model_selection  import train_test_split\n",
    "xtrain,xtest,ytrain,ytest=train_test_split(x,y,test_size=0.3,shuffle=True,random_state=1)\n"
   ]
  },
  {
   "cell_type": "code",
   "execution_count": 16,
   "id": "f4c5fdb6",
   "metadata": {},
   "outputs": [
    {
     "data": {
      "text/html": [
       "<style>#sk-container-id-2 {color: black;background-color: white;}#sk-container-id-2 pre{padding: 0;}#sk-container-id-2 div.sk-toggleable {background-color: white;}#sk-container-id-2 label.sk-toggleable__label {cursor: pointer;display: block;width: 100%;margin-bottom: 0;padding: 0.3em;box-sizing: border-box;text-align: center;}#sk-container-id-2 label.sk-toggleable__label-arrow:before {content: \"▸\";float: left;margin-right: 0.25em;color: #696969;}#sk-container-id-2 label.sk-toggleable__label-arrow:hover:before {color: black;}#sk-container-id-2 div.sk-estimator:hover label.sk-toggleable__label-arrow:before {color: black;}#sk-container-id-2 div.sk-toggleable__content {max-height: 0;max-width: 0;overflow: hidden;text-align: left;background-color: #f0f8ff;}#sk-container-id-2 div.sk-toggleable__content pre {margin: 0.2em;color: black;border-radius: 0.25em;background-color: #f0f8ff;}#sk-container-id-2 input.sk-toggleable__control:checked~div.sk-toggleable__content {max-height: 200px;max-width: 100%;overflow: auto;}#sk-container-id-2 input.sk-toggleable__control:checked~label.sk-toggleable__label-arrow:before {content: \"▾\";}#sk-container-id-2 div.sk-estimator input.sk-toggleable__control:checked~label.sk-toggleable__label {background-color: #d4ebff;}#sk-container-id-2 div.sk-label input.sk-toggleable__control:checked~label.sk-toggleable__label {background-color: #d4ebff;}#sk-container-id-2 input.sk-hidden--visually {border: 0;clip: rect(1px 1px 1px 1px);clip: rect(1px, 1px, 1px, 1px);height: 1px;margin: -1px;overflow: hidden;padding: 0;position: absolute;width: 1px;}#sk-container-id-2 div.sk-estimator {font-family: monospace;background-color: #f0f8ff;border: 1px dotted black;border-radius: 0.25em;box-sizing: border-box;margin-bottom: 0.5em;}#sk-container-id-2 div.sk-estimator:hover {background-color: #d4ebff;}#sk-container-id-2 div.sk-parallel-item::after {content: \"\";width: 100%;border-bottom: 1px solid gray;flex-grow: 1;}#sk-container-id-2 div.sk-label:hover label.sk-toggleable__label {background-color: #d4ebff;}#sk-container-id-2 div.sk-serial::before {content: \"\";position: absolute;border-left: 1px solid gray;box-sizing: border-box;top: 0;bottom: 0;left: 50%;z-index: 0;}#sk-container-id-2 div.sk-serial {display: flex;flex-direction: column;align-items: center;background-color: white;padding-right: 0.2em;padding-left: 0.2em;position: relative;}#sk-container-id-2 div.sk-item {position: relative;z-index: 1;}#sk-container-id-2 div.sk-parallel {display: flex;align-items: stretch;justify-content: center;background-color: white;position: relative;}#sk-container-id-2 div.sk-item::before, #sk-container-id-2 div.sk-parallel-item::before {content: \"\";position: absolute;border-left: 1px solid gray;box-sizing: border-box;top: 0;bottom: 0;left: 50%;z-index: -1;}#sk-container-id-2 div.sk-parallel-item {display: flex;flex-direction: column;z-index: 1;position: relative;background-color: white;}#sk-container-id-2 div.sk-parallel-item:first-child::after {align-self: flex-end;width: 50%;}#sk-container-id-2 div.sk-parallel-item:last-child::after {align-self: flex-start;width: 50%;}#sk-container-id-2 div.sk-parallel-item:only-child::after {width: 0;}#sk-container-id-2 div.sk-dashed-wrapped {border: 1px dashed gray;margin: 0 0.4em 0.5em 0.4em;box-sizing: border-box;padding-bottom: 0.4em;background-color: white;}#sk-container-id-2 div.sk-label label {font-family: monospace;font-weight: bold;display: inline-block;line-height: 1.2em;}#sk-container-id-2 div.sk-label-container {text-align: center;}#sk-container-id-2 div.sk-container {/* jupyter's `normalize.less` sets `[hidden] { display: none; }` but bootstrap.min.css set `[hidden] { display: none !important; }` so we also need the `!important` here to be able to override the default hidden behavior on the sphinx rendered scikit-learn.org. See: https://github.com/scikit-learn/scikit-learn/issues/21755 */display: inline-block !important;position: relative;}#sk-container-id-2 div.sk-text-repr-fallback {display: none;}</style><div id=\"sk-container-id-2\" class=\"sk-top-container\"><div class=\"sk-text-repr-fallback\"><pre>LinearRegression()</pre><b>In a Jupyter environment, please rerun this cell to show the HTML representation or trust the notebook. <br />On GitHub, the HTML representation is unable to render, please try loading this page with nbviewer.org.</b></div><div class=\"sk-container\" hidden><div class=\"sk-item\"><div class=\"sk-estimator sk-toggleable\"><input class=\"sk-toggleable__control sk-hidden--visually\" id=\"sk-estimator-id-2\" type=\"checkbox\" checked><label for=\"sk-estimator-id-2\" class=\"sk-toggleable__label sk-toggleable__label-arrow\">LinearRegression</label><div class=\"sk-toggleable__content\"><pre>LinearRegression()</pre></div></div></div></div></div>"
      ],
      "text/plain": [
       "LinearRegression()"
      ]
     },
     "execution_count": 16,
     "metadata": {},
     "output_type": "execute_result"
    }
   ],
   "source": [
    "from sklearn.linear_model import LinearRegression #linear regression \n",
    "slr= LinearRegression()\n",
    "slr.fit(xtrain,ytrain)"
   ]
  },
  {
   "cell_type": "code",
   "execution_count": 17,
   "id": "50776403",
   "metadata": {},
   "outputs": [
    {
     "data": {
      "text/plain": [
       "0.4065421619886628"
      ]
     },
     "execution_count": 17,
     "metadata": {},
     "output_type": "execute_result"
    }
   ],
   "source": [
    "ypred= slr.predict(xtest)\n",
    "from sklearn.metrics import r2_score\n",
    "r2_score(ytest,ypred) #40% is the accuracy "
   ]
  },
  {
   "cell_type": "markdown",
   "id": "9a51aa64",
   "metadata": {},
   "source": [
    "# stepwise regression "
   ]
  },
  {
   "cell_type": "code",
   "execution_count": 18,
   "id": "79df376b",
   "metadata": {},
   "outputs": [],
   "source": [
    "x=  df.iloc[:,2:]\n",
    "y = df['price']\n"
   ]
  },
  {
   "cell_type": "code",
   "execution_count": 19,
   "id": "332faf33",
   "metadata": {},
   "outputs": [],
   "source": [
    "from mlxtend.feature_selection import SequentialFeatureSelector\n",
    "from sklearn.linear_model import LinearRegression\n",
    "mlr=LinearRegression()\n",
    "sfs = SequentialFeatureSelector(mlr,k_features=4,forward=True,scoring='r2')\n",
    "feat = sfs.fit(x,y)"
   ]
  },
  {
   "cell_type": "code",
   "execution_count": 20,
   "id": "1eaf234d",
   "metadata": {},
   "outputs": [
    {
     "data": {
      "text/plain": [
       "('lotsize', 'bathrms', 'airco', 'prefarea')"
      ]
     },
     "execution_count": 20,
     "metadata": {},
     "output_type": "execute_result"
    }
   ],
   "source": [
    "feat.k_feature_names_"
   ]
  },
  {
   "cell_type": "code",
   "execution_count": 25,
   "id": "7fb4ebd5",
   "metadata": {},
   "outputs": [],
   "source": [
    "x= df[['lotsize', 'bathrms', 'airco', 'prefarea']]\n",
    "y=  df['price']\n",
    "from sklearn.model_selection import train_test_split\n",
    "xtrain,xtest,ytrain,ytest=train_test_split(x,y,test_size=0.2,shuffle=True,random_state=1)"
   ]
  },
  {
   "cell_type": "code",
   "execution_count": 26,
   "id": "dbd397d2",
   "metadata": {},
   "outputs": [
    {
     "data": {
      "text/html": [
       "<style>#sk-container-id-5 {color: black;background-color: white;}#sk-container-id-5 pre{padding: 0;}#sk-container-id-5 div.sk-toggleable {background-color: white;}#sk-container-id-5 label.sk-toggleable__label {cursor: pointer;display: block;width: 100%;margin-bottom: 0;padding: 0.3em;box-sizing: border-box;text-align: center;}#sk-container-id-5 label.sk-toggleable__label-arrow:before {content: \"▸\";float: left;margin-right: 0.25em;color: #696969;}#sk-container-id-5 label.sk-toggleable__label-arrow:hover:before {color: black;}#sk-container-id-5 div.sk-estimator:hover label.sk-toggleable__label-arrow:before {color: black;}#sk-container-id-5 div.sk-toggleable__content {max-height: 0;max-width: 0;overflow: hidden;text-align: left;background-color: #f0f8ff;}#sk-container-id-5 div.sk-toggleable__content pre {margin: 0.2em;color: black;border-radius: 0.25em;background-color: #f0f8ff;}#sk-container-id-5 input.sk-toggleable__control:checked~div.sk-toggleable__content {max-height: 200px;max-width: 100%;overflow: auto;}#sk-container-id-5 input.sk-toggleable__control:checked~label.sk-toggleable__label-arrow:before {content: \"▾\";}#sk-container-id-5 div.sk-estimator input.sk-toggleable__control:checked~label.sk-toggleable__label {background-color: #d4ebff;}#sk-container-id-5 div.sk-label input.sk-toggleable__control:checked~label.sk-toggleable__label {background-color: #d4ebff;}#sk-container-id-5 input.sk-hidden--visually {border: 0;clip: rect(1px 1px 1px 1px);clip: rect(1px, 1px, 1px, 1px);height: 1px;margin: -1px;overflow: hidden;padding: 0;position: absolute;width: 1px;}#sk-container-id-5 div.sk-estimator {font-family: monospace;background-color: #f0f8ff;border: 1px dotted black;border-radius: 0.25em;box-sizing: border-box;margin-bottom: 0.5em;}#sk-container-id-5 div.sk-estimator:hover {background-color: #d4ebff;}#sk-container-id-5 div.sk-parallel-item::after {content: \"\";width: 100%;border-bottom: 1px solid gray;flex-grow: 1;}#sk-container-id-5 div.sk-label:hover label.sk-toggleable__label {background-color: #d4ebff;}#sk-container-id-5 div.sk-serial::before {content: \"\";position: absolute;border-left: 1px solid gray;box-sizing: border-box;top: 0;bottom: 0;left: 50%;z-index: 0;}#sk-container-id-5 div.sk-serial {display: flex;flex-direction: column;align-items: center;background-color: white;padding-right: 0.2em;padding-left: 0.2em;position: relative;}#sk-container-id-5 div.sk-item {position: relative;z-index: 1;}#sk-container-id-5 div.sk-parallel {display: flex;align-items: stretch;justify-content: center;background-color: white;position: relative;}#sk-container-id-5 div.sk-item::before, #sk-container-id-5 div.sk-parallel-item::before {content: \"\";position: absolute;border-left: 1px solid gray;box-sizing: border-box;top: 0;bottom: 0;left: 50%;z-index: -1;}#sk-container-id-5 div.sk-parallel-item {display: flex;flex-direction: column;z-index: 1;position: relative;background-color: white;}#sk-container-id-5 div.sk-parallel-item:first-child::after {align-self: flex-end;width: 50%;}#sk-container-id-5 div.sk-parallel-item:last-child::after {align-self: flex-start;width: 50%;}#sk-container-id-5 div.sk-parallel-item:only-child::after {width: 0;}#sk-container-id-5 div.sk-dashed-wrapped {border: 1px dashed gray;margin: 0 0.4em 0.5em 0.4em;box-sizing: border-box;padding-bottom: 0.4em;background-color: white;}#sk-container-id-5 div.sk-label label {font-family: monospace;font-weight: bold;display: inline-block;line-height: 1.2em;}#sk-container-id-5 div.sk-label-container {text-align: center;}#sk-container-id-5 div.sk-container {/* jupyter's `normalize.less` sets `[hidden] { display: none; }` but bootstrap.min.css set `[hidden] { display: none !important; }` so we also need the `!important` here to be able to override the default hidden behavior on the sphinx rendered scikit-learn.org. See: https://github.com/scikit-learn/scikit-learn/issues/21755 */display: inline-block !important;position: relative;}#sk-container-id-5 div.sk-text-repr-fallback {display: none;}</style><div id=\"sk-container-id-5\" class=\"sk-top-container\"><div class=\"sk-text-repr-fallback\"><pre>LinearRegression()</pre><b>In a Jupyter environment, please rerun this cell to show the HTML representation or trust the notebook. <br />On GitHub, the HTML representation is unable to render, please try loading this page with nbviewer.org.</b></div><div class=\"sk-container\" hidden><div class=\"sk-item\"><div class=\"sk-estimator sk-toggleable\"><input class=\"sk-toggleable__control sk-hidden--visually\" id=\"sk-estimator-id-5\" type=\"checkbox\" checked><label for=\"sk-estimator-id-5\" class=\"sk-toggleable__label sk-toggleable__label-arrow\">LinearRegression</label><div class=\"sk-toggleable__content\"><pre>LinearRegression()</pre></div></div></div></div></div>"
      ],
      "text/plain": [
       "LinearRegression()"
      ]
     },
     "execution_count": 26,
     "metadata": {},
     "output_type": "execute_result"
    }
   ],
   "source": [
    "mlr.fit(xtrain,ytrain)"
   ]
  },
  {
   "cell_type": "code",
   "execution_count": 27,
   "id": "4282e065",
   "metadata": {},
   "outputs": [
    {
     "data": {
      "text/plain": [
       "0.5828221535885441"
      ]
     },
     "execution_count": 27,
     "metadata": {},
     "output_type": "execute_result"
    }
   ],
   "source": [
    "ypred= mlr.predict(xtest)\n",
    "from sklearn.metrics import r2_score \n",
    "r2_score(ytest,ypred) #58% is the accuracy "
   ]
  },
  {
   "cell_type": "markdown",
   "id": "680b25d8",
   "metadata": {},
   "source": [
    "# polyomial regression"
   ]
  },
  {
   "cell_type": "code",
   "execution_count": 28,
   "id": "3829bb0c",
   "metadata": {},
   "outputs": [],
   "source": [
    "from sklearn.preprocessing import PolynomialFeatures"
   ]
  },
  {
   "cell_type": "code",
   "execution_count": 51,
   "id": "4755aad5",
   "metadata": {},
   "outputs": [
    {
     "data": {
      "text/plain": [
       "array([[1.        , 0.28865979, 0.08332448],\n",
       "       [1.        , 0.16151203, 0.02608614],\n",
       "       [1.        , 0.09690722, 0.00939101],\n",
       "       ...,\n",
       "       [1.        , 0.29896907, 0.08938251],\n",
       "       [1.        , 0.29896907, 0.08938251],\n",
       "       [1.        , 0.29896907, 0.08938251]])"
      ]
     },
     "execution_count": 51,
     "metadata": {},
     "output_type": "execute_result"
    }
   ],
   "source": [
    "x = df[['lotsize']]\n",
    "y = df['price']\n",
    "poly = PolynomialFeatures(degree=2) #if you increase the degree too much then it will be overfitting\n",
    "xpoly = poly.fit_transform(x)\n",
    "xpoly"
   ]
  },
  {
   "cell_type": "code",
   "execution_count": 56,
   "id": "57e94f89",
   "metadata": {},
   "outputs": [],
   "source": [
    "xtrain,xtest,ytrain,ytest=train_test_split(xpoly,y,test_size=0.2,shuffle=True,random_state=1)"
   ]
  },
  {
   "cell_type": "code",
   "execution_count": 57,
   "id": "b791b8ee",
   "metadata": {},
   "outputs": [
    {
     "data": {
      "text/html": [
       "<style>#sk-container-id-8 {color: black;background-color: white;}#sk-container-id-8 pre{padding: 0;}#sk-container-id-8 div.sk-toggleable {background-color: white;}#sk-container-id-8 label.sk-toggleable__label {cursor: pointer;display: block;width: 100%;margin-bottom: 0;padding: 0.3em;box-sizing: border-box;text-align: center;}#sk-container-id-8 label.sk-toggleable__label-arrow:before {content: \"▸\";float: left;margin-right: 0.25em;color: #696969;}#sk-container-id-8 label.sk-toggleable__label-arrow:hover:before {color: black;}#sk-container-id-8 div.sk-estimator:hover label.sk-toggleable__label-arrow:before {color: black;}#sk-container-id-8 div.sk-toggleable__content {max-height: 0;max-width: 0;overflow: hidden;text-align: left;background-color: #f0f8ff;}#sk-container-id-8 div.sk-toggleable__content pre {margin: 0.2em;color: black;border-radius: 0.25em;background-color: #f0f8ff;}#sk-container-id-8 input.sk-toggleable__control:checked~div.sk-toggleable__content {max-height: 200px;max-width: 100%;overflow: auto;}#sk-container-id-8 input.sk-toggleable__control:checked~label.sk-toggleable__label-arrow:before {content: \"▾\";}#sk-container-id-8 div.sk-estimator input.sk-toggleable__control:checked~label.sk-toggleable__label {background-color: #d4ebff;}#sk-container-id-8 div.sk-label input.sk-toggleable__control:checked~label.sk-toggleable__label {background-color: #d4ebff;}#sk-container-id-8 input.sk-hidden--visually {border: 0;clip: rect(1px 1px 1px 1px);clip: rect(1px, 1px, 1px, 1px);height: 1px;margin: -1px;overflow: hidden;padding: 0;position: absolute;width: 1px;}#sk-container-id-8 div.sk-estimator {font-family: monospace;background-color: #f0f8ff;border: 1px dotted black;border-radius: 0.25em;box-sizing: border-box;margin-bottom: 0.5em;}#sk-container-id-8 div.sk-estimator:hover {background-color: #d4ebff;}#sk-container-id-8 div.sk-parallel-item::after {content: \"\";width: 100%;border-bottom: 1px solid gray;flex-grow: 1;}#sk-container-id-8 div.sk-label:hover label.sk-toggleable__label {background-color: #d4ebff;}#sk-container-id-8 div.sk-serial::before {content: \"\";position: absolute;border-left: 1px solid gray;box-sizing: border-box;top: 0;bottom: 0;left: 50%;z-index: 0;}#sk-container-id-8 div.sk-serial {display: flex;flex-direction: column;align-items: center;background-color: white;padding-right: 0.2em;padding-left: 0.2em;position: relative;}#sk-container-id-8 div.sk-item {position: relative;z-index: 1;}#sk-container-id-8 div.sk-parallel {display: flex;align-items: stretch;justify-content: center;background-color: white;position: relative;}#sk-container-id-8 div.sk-item::before, #sk-container-id-8 div.sk-parallel-item::before {content: \"\";position: absolute;border-left: 1px solid gray;box-sizing: border-box;top: 0;bottom: 0;left: 50%;z-index: -1;}#sk-container-id-8 div.sk-parallel-item {display: flex;flex-direction: column;z-index: 1;position: relative;background-color: white;}#sk-container-id-8 div.sk-parallel-item:first-child::after {align-self: flex-end;width: 50%;}#sk-container-id-8 div.sk-parallel-item:last-child::after {align-self: flex-start;width: 50%;}#sk-container-id-8 div.sk-parallel-item:only-child::after {width: 0;}#sk-container-id-8 div.sk-dashed-wrapped {border: 1px dashed gray;margin: 0 0.4em 0.5em 0.4em;box-sizing: border-box;padding-bottom: 0.4em;background-color: white;}#sk-container-id-8 div.sk-label label {font-family: monospace;font-weight: bold;display: inline-block;line-height: 1.2em;}#sk-container-id-8 div.sk-label-container {text-align: center;}#sk-container-id-8 div.sk-container {/* jupyter's `normalize.less` sets `[hidden] { display: none; }` but bootstrap.min.css set `[hidden] { display: none !important; }` so we also need the `!important` here to be able to override the default hidden behavior on the sphinx rendered scikit-learn.org. See: https://github.com/scikit-learn/scikit-learn/issues/21755 */display: inline-block !important;position: relative;}#sk-container-id-8 div.sk-text-repr-fallback {display: none;}</style><div id=\"sk-container-id-8\" class=\"sk-top-container\"><div class=\"sk-text-repr-fallback\"><pre>LinearRegression()</pre><b>In a Jupyter environment, please rerun this cell to show the HTML representation or trust the notebook. <br />On GitHub, the HTML representation is unable to render, please try loading this page with nbviewer.org.</b></div><div class=\"sk-container\" hidden><div class=\"sk-item\"><div class=\"sk-estimator sk-toggleable\"><input class=\"sk-toggleable__control sk-hidden--visually\" id=\"sk-estimator-id-8\" type=\"checkbox\" checked><label for=\"sk-estimator-id-8\" class=\"sk-toggleable__label sk-toggleable__label-arrow\">LinearRegression</label><div class=\"sk-toggleable__content\"><pre>LinearRegression()</pre></div></div></div></div></div>"
      ],
      "text/plain": [
       "LinearRegression()"
      ]
     },
     "execution_count": 57,
     "metadata": {},
     "output_type": "execute_result"
    }
   ],
   "source": [
    "from sklearn.linear_model import LinearRegression\n",
    "mlr = LinearRegression()\n",
    "mlr.fit(xtrain,ytrain)"
   ]
  },
  {
   "cell_type": "code",
   "execution_count": 58,
   "id": "678dc43e",
   "metadata": {},
   "outputs": [
    {
     "data": {
      "text/plain": [
       "0.5828221535885441"
      ]
     },
     "execution_count": 58,
     "metadata": {},
     "output_type": "execute_result"
    }
   ],
   "source": [
    "ypredict = mlr.predict(xtest)\n",
    "from sklearn.metrics import r2_score\n",
    "r2_score(ytest,ypred)"
   ]
  },
  {
   "cell_type": "markdown",
   "id": "93ff307c",
   "metadata": {},
   "source": [
    "# how to find model is overfitting or not"
   ]
  },
  {
   "cell_type": "code",
   "execution_count": null,
   "id": "c95144f7",
   "metadata": {},
   "outputs": [],
   "source": []
  },
  {
   "cell_type": "code",
   "execution_count": null,
   "id": "8a6b91e3",
   "metadata": {},
   "outputs": [],
   "source": []
  },
  {
   "cell_type": "code",
   "execution_count": null,
   "id": "676fcf04",
   "metadata": {},
   "outputs": [],
   "source": []
  },
  {
   "cell_type": "code",
   "execution_count": null,
   "id": "bae5fa9b",
   "metadata": {},
   "outputs": [],
   "source": []
  },
  {
   "cell_type": "code",
   "execution_count": null,
   "id": "2af8efa6",
   "metadata": {},
   "outputs": [],
   "source": []
  }
 ],
 "metadata": {
  "kernelspec": {
   "display_name": "Python 3 (ipykernel)",
   "language": "python",
   "name": "python3"
  },
  "language_info": {
   "codemirror_mode": {
    "name": "ipython",
    "version": 3
   },
   "file_extension": ".py",
   "mimetype": "text/x-python",
   "name": "python",
   "nbconvert_exporter": "python",
   "pygments_lexer": "ipython3",
   "version": "3.10.9"
  }
 },
 "nbformat": 4,
 "nbformat_minor": 5
}
